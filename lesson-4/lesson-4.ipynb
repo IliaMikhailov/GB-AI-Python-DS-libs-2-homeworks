{
 "cells": [
  {
   "cell_type": "markdown",
   "id": "495f6882",
   "metadata": {},
   "source": [
    "Work in progress"
   ]
  },
  {
   "cell_type": "markdown",
   "id": "05477dbe",
   "metadata": {},
   "source": [
    "### Урок 4. Оценка и интерпретация полученной модели. Обсуждение курсового проекта."
   ]
  },
  {
   "cell_type": "markdown",
   "id": "bc5f360a",
   "metadata": {},
   "source": [
    "#### "
   ]
  },
  {
   "cell_type": "markdown",
   "id": "d00cd300",
   "metadata": {},
   "source": [
    "#### 1. Расскажите, как работает регуляризация в решающих деревьях, какие параметры мы штрафуем в данных алгоритмах?"
   ]
  },
  {
   "cell_type": "code",
   "execution_count": null,
   "id": "f570a26c",
   "metadata": {},
   "outputs": [],
   "source": []
  },
  {
   "cell_type": "markdown",
   "id": "9100425c",
   "metadata": {},
   "source": [
    "#### 2. По какому принципу рассчитывается \"важность признака (feature_importance)\" в ансамблях деревьев?"
   ]
  },
  {
   "cell_type": "code",
   "execution_count": null,
   "id": "16146832",
   "metadata": {},
   "outputs": [],
   "source": []
  }
 ],
 "metadata": {
  "kernelspec": {
   "display_name": "Python 3.8.5 64-bit ('base': conda)",
   "language": "python",
   "name": "python385jvsc74a57bd08a49bb684e43ab00106799ded31d49934e1f306b7a86a273670123ff298874f2"
  },
  "language_info": {
   "codemirror_mode": {
    "name": "ipython",
    "version": 3
   },
   "file_extension": ".py",
   "mimetype": "text/x-python",
   "name": "python",
   "nbconvert_exporter": "python",
   "pygments_lexer": "ipython3",
   "version": "3.8.10"
  }
 },
 "nbformat": 4,
 "nbformat_minor": 5
}
